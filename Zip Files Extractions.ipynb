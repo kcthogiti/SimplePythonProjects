{
 "cells": [
  {
   "cell_type": "markdown",
   "metadata": {},
   "source": [
    "<h1>Extract multiple zip files at once to separate folders </h1>"
   ]
  },
  {
   "cell_type": "code",
   "execution_count": 1,
   "metadata": {
    "collapsed": true
   },
   "outputs": [],
   "source": [
    "import zipfile, os"
   ]
  },
  {
   "cell_type": "code",
   "execution_count": 2,
   "metadata": {
    "collapsed": false
   },
   "outputs": [],
   "source": [
    "files_directory = 'C:/Users/KRISHNACHAITANYA/Desktop/Dataquest myCode files' #your directory name"
   ]
  },
  {
   "cell_type": "code",
   "execution_count": 3,
   "metadata": {
    "collapsed": false
   },
   "outputs": [],
   "source": [
    "for flname in os.listdir(files_directory):\n",
    "    if flname.endswith('.zip'):\n",
    "        fl_path = os.path.join(files_directory, flname)\n",
    "        new_fl_path = fl_path.replace(\".zip\", \"\")\n",
    "        \n",
    "        zip_fl_ref = zipfile.ZipFile(fl_path, 'r')\n",
    "        zip_fl_ref.extractall(new_fl_path) \n",
    "        zip_fl_ref.close()\n",
    "        \n",
    "        os.remove(fl_path)"
   ]
  }
 ],
 "metadata": {
  "anaconda-cloud": {},
  "kernelspec": {
   "display_name": "Python [conda root]",
   "language": "python",
   "name": "conda-root-py"
  },
  "language_info": {
   "codemirror_mode": {
    "name": "ipython",
    "version": 2
   },
   "file_extension": ".py",
   "mimetype": "text/x-python",
   "name": "python",
   "nbconvert_exporter": "python",
   "pygments_lexer": "ipython2",
   "version": "2.7.12"
  }
 },
 "nbformat": 4,
 "nbformat_minor": 0
}
